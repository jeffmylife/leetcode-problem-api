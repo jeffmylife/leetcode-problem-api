{
 "cells": [
  {
   "cell_type": "code",
   "execution_count": 116,
   "metadata": {},
   "outputs": [],
   "source": [
    "import requests\n",
    "\n",
    "\n",
    "query_string = \"\"\"query questionData($titleSlug: String!) {\n",
    "  question(titleSlug: $titleSlug) {\n",
    "    title\n",
    "    titleSlug\n",
    "    content\n",
    "    difficulty\n",
    "    stats\n",
    "    hints\n",
    "    sampleTestCase\n",
    "    envInfo\n",
    "  }\n",
    "}\n",
    "\"\"\"\n",
    "\n",
    "data = {\"operationName\": \"questionData\",\n",
    "        \"variables\": {\"titleSlug\":\"network-delay-time\"},\n",
    "        \"query\": query_string}\n",
    "\n",
    "rq_json = requests.post('https://leetcode.com/graphql', json = data).json()\n",
    "\n"
   ]
  },
  {
   "cell_type": "code",
   "execution_count": 125,
   "metadata": {},
   "outputs": [
    {
     "data": {
      "text/plain": [
       "dict"
      ]
     },
     "execution_count": 125,
     "metadata": {},
     "output_type": "execute_result"
    }
   ],
   "source": []
  },
  {
   "cell_type": "code",
   "execution_count": 108,
   "metadata": {},
   "outputs": [
    {
     "name": "stdout",
     "output_type": "stream",
     "text": [
      "<h1>Network Delay Time</h1><p>There are <code>N</code> network nodes, labelled <code>1</code> to <code>N</code>.</p>\r\n",
      "\r\n",
      "<p>Given <code>times</code>, a list of travel times as <b>directed</b> edges <code>times[i] = (u, v, w)</code>, where <code>u</code> is the source node, <code>v</code> is the target node, and <code>w</code> is the time it takes for a signal to travel from source to target.</p>\r\n",
      "\r\n",
      "<p>Now, we send a signal from a certain node <code>K</code>. How long will it take for all nodes to receive the signal? If it is impossible, return <code>-1</code>.</p>\r\n",
      "\r\n",
      "<p>&nbsp;</p>\r\n",
      "\r\n",
      "<p><strong>Example 1:</strong></p>\r\n",
      "\r\n",
      "<p><img alt=\"\" src=\"https://assets.leetcode.com/uploads/2019/05/23/931_example_1.png\" style=\"width: 200px; height: 220px;\" /></p>\r\n",
      "\r\n",
      "<pre>\r\n",
      "<strong>Input: </strong>times = <span id=\"example-input-1-1\">[[2,1,1],[2,3,1],[3,4,1]]</span>, N = <span id=\"example-input-1-2\">4</span>, K = <span id=\"example-input-1-3\">2</span>\r\n",
      "<strong>Output: </strong><span id=\"example-output-1\">2</span>\r\n",
      "</pre>\r\n",
      "\r\n",
      "<p>&nbsp;</p>\r\n",
      "\r\n",
      "<p><b>Note:</b></p>\r\n",
      "\r\n",
      "<ol>\r\n",
      "\t<li><code>N</code> will be in the range <code>[1, 100]</code>.</li>\r\n",
      "\t<li><code>K</code> will be in the range <code>[1, N]</code>.</li>\r\n",
      "\t<li>The length of <code>times</code> will be in the range <code>[1, 6000]</code>.</li>\r\n",
      "\t<li>All edges <code>times[i] = (u, v, w)</code> will have <code>1 &lt;= u, v &lt;= N</code> and <code>0 &lt;= w &lt;= 100</code>.</li>\r\n",
      "</ol>\r\n",
      "\n"
     ]
    }
   ],
   "source": [
    "\n",
    "title = f\"<h1>{rq_json['data']['question']['title']}</h1>\"\n",
    "title_slug = rq_json[\"data\"][\"question\"][\"titleSlug\"]\n",
    "content = rq_json[\"data\"]['question'][\"content\"]\n",
    "content = title + content \n",
    "\n",
    "with open(\"title_slug.html\",\"w\") as f: \n",
    "    f.write(content)\n",
    "\n",
    "# contains lang-specific env info  \n",
    "env_info = json.loads(example[\"question\"][\"envInfo\"])\n",
    "\n",
    "print()"
   ]
  },
  {
   "cell_type": "code",
   "execution_count": 88,
   "metadata": {},
   "outputs": [
    {
     "data": {
      "text/html": [
       "<p>There are <code>N</code> network nodes, labelled <code>1</code> to <code>N</code>.</p>\n",
       "\n",
       "<p>Given <code>times</code>, a list of travel times as <b>directed</b> edges <code>times[i] = (u, v, w)</code>, where <code>u</code> is the source node, <code>v</code> is the target node, and <code>w</code> is the time it takes for a signal to travel from source to target.</p>\n",
       "\n",
       "<p>Now, we send a signal from a certain node <code>K</code>. How long will it take for all nodes to receive the signal? If it is impossible, return <code>-1</code>.</p>\n",
       "\n",
       "<p>&nbsp;</p>\n",
       "\n",
       "<p><strong>Example 1:</strong></p>\n",
       "\n",
       "<p><img alt=\"\" src=\"https://assets.leetcode.com/uploads/2019/05/23/931_example_1.png\" style=\"width: 200px; height: 220px;\" /></p>\n",
       "\n",
       "<pre>\n",
       "<strong>Input: </strong>times = <span id=\"example-input-1-1\">[[2,1,1],[2,3,1],[3,4,1]]</span>, N = <span id=\"example-input-1-2\">4</span>, K = <span id=\"example-input-1-3\">2</span>\n",
       "<strong>Output: </strong><span id=\"example-output-1\">2</span>\n",
       "</pre>\n",
       "\n",
       "<p>&nbsp;</p>\n",
       "\n",
       "<p><b>Note:</b></p>\n",
       "\n",
       "<ol>\n",
       "\t<li><code>N</code> will be in the range <code>[1, 100]</code>.</li>\n",
       "\t<li><code>K</code> will be in the range <code>[1, N]</code>.</li>\n",
       "\t<li>The length of <code>times</code> will be in the range <code>[1, 6000]</code>.</li>\n",
       "\t<li>All edges <code>times[i] = (u, v, w)</code> will have <code>1 &lt;= u, v &lt;= N</code> and <code>0 &lt;= w &lt;= 100</code>.</li>\n",
       "</ol>\n"
      ],
      "text/plain": [
       "<IPython.core.display.HTML object>"
      ]
     },
     "execution_count": 88,
     "metadata": {},
     "output_type": "execute_result"
    }
   ],
   "source": [
    "from IPython.display import HTML\n",
    "HTML(filename=\"./test.html\")"
   ]
  },
  {
   "cell_type": "code",
   "execution_count": 96,
   "metadata": {},
   "outputs": [],
   "source": [
    "import os \n",
    "dir_path = \"delmedude\"\n",
    "if not os.path.exists(dir_path):\n",
    "    os.mkdir(dir_path)"
   ]
  },
  {
   "cell_type": "code",
   "execution_count": null,
   "metadata": {},
   "outputs": [],
   "source": []
  },
  {
   "cell_type": "code",
   "execution_count": null,
   "metadata": {},
   "outputs": [],
   "source": []
  }
 ],
 "metadata": {
  "kernelspec": {
   "display_name": "Python 3",
   "language": "python",
   "name": "python3"
  },
  "language_info": {
   "codemirror_mode": {
    "name": "ipython",
    "version": 3
   },
   "file_extension": ".py",
   "mimetype": "text/x-python",
   "name": "python",
   "nbconvert_exporter": "python",
   "pygments_lexer": "ipython3",
   "version": "3.7.3"
  }
 },
 "nbformat": 4,
 "nbformat_minor": 2
}
